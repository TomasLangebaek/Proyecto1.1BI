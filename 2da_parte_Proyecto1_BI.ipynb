{
 "cells": [
  {
   "cell_type": "markdown",
   "metadata": {
    "id": "KrxQrz-cresd"
   },
   "source": [
    "# Proyecto 1"
   ]
  },
  {
   "cell_type": "markdown",
   "metadata": {
    "id": "BN9pzoYNroNT"
   },
   "source": [
    "Con el proposito de determinar la elegibilidad de un paciente para ensayos clínicos de cáncer a partir de\n",
    "texto descriptivo se realizó el siguiente notebook."
   ]
  },
  {
   "cell_type": "markdown",
   "metadata": {
    "id": "7ZYqdXWnrtur"
   },
   "source": [
    "## 0. Importación de Datos y Librerías"
   ]
  },
  {
   "cell_type": "code",
   "execution_count": 8,
   "metadata": {
    "colab": {
     "base_uri": "https://localhost:8080/"
    },
    "id": "n4tmNvIXvguC",
    "outputId": "e22e4c2a-2e66-4cc8-db64-988e13492962"
   },
   "outputs": [],
   "source": [
    "# Instalación de librerias\n",
    "%matplotlib inline\n",
    "\n",
    "import sklearn\n",
    "import numpy as np\n",
    "import pandas as pd\n",
    "\n",
    "import sklearn.model_selection as model_selection\n",
    "from sklearn import svm\n",
    "from sklearn.model_selection import train_test_split,GridSearchCV\n",
    "from sklearn.feature_extraction.text import TfidfVectorizer, CountVectorizer, HashingVectorizer\n",
    "from sklearn.pipeline import Pipeline, FeatureUnion\n",
    "from sklearn.svm import SVC\n",
    "from sklearn.metrics import classification_report, confusion_matrix, plot_precision_recall_curve,accuracy_score, f1_score, make_scorer\n",
    "from sklearn.base import BaseEstimator, ClassifierMixin\n",
    "from sklearn.feature_extraction.text import TfidfVectorizer\n",
    "from sklearn.svm import LinearSVC\n",
    "from joblib import dump, load"
   ]
  },
  {
   "cell_type": "code",
   "execution_count": 2,
   "metadata": {
    "colab": {
     "base_uri": "https://localhost:8080/"
    },
    "id": "lXTgsfB0wah-",
    "outputId": "819d1b38-526a-4330-d023-622298c112ad"
   },
   "outputs": [],
   "source": [
    "path = 'datos_elegibilidad.csv'\n",
    "df = pd.read_csv(path, sep=',', encoding = 'ISO-8859-1', index_col=None)\n",
    "data = df"
   ]
  },
  {
   "cell_type": "code",
   "execution_count": 3,
   "metadata": {
    "colab": {
     "base_uri": "https://localhost:8080/"
    },
    "id": "9Dx-UIilCIp0",
    "outputId": "f26d954f-a474-421a-d06a-70043cb9ab18"
   },
   "outputs": [
    {
     "name": "stdout",
     "output_type": "stream",
     "text": [
      "(12000, 2)\n"
     ]
    }
   ],
   "source": [
    "print(data.shape)"
   ]
  },
  {
   "cell_type": "code",
   "execution_count": 4,
   "metadata": {
    "colab": {
     "base_uri": "https://localhost:8080/",
     "height": 424
    },
    "id": "uo7pA2SkI3e9",
    "outputId": "5e78c50a-5369-4621-a8d9-bd47ba27b3c8"
   },
   "outputs": [
    {
     "data": {
      "text/html": [
       "<div>\n",
       "<style scoped>\n",
       "    .dataframe tbody tr th:only-of-type {\n",
       "        vertical-align: middle;\n",
       "    }\n",
       "\n",
       "    .dataframe tbody tr th {\n",
       "        vertical-align: top;\n",
       "    }\n",
       "\n",
       "    .dataframe thead th {\n",
       "        text-align: right;\n",
       "    }\n",
       "</style>\n",
       "<table border=\"1\" class=\"dataframe\">\n",
       "  <thead>\n",
       "    <tr style=\"text-align: right;\">\n",
       "      <th></th>\n",
       "      <th>label</th>\n",
       "      <th>study_and_condition</th>\n",
       "    </tr>\n",
       "  </thead>\n",
       "  <tbody>\n",
       "    <tr>\n",
       "      <th>0</th>\n",
       "      <td>__label__0</td>\n",
       "      <td>study interventions are Saracatinib . recurren...</td>\n",
       "    </tr>\n",
       "    <tr>\n",
       "      <th>1</th>\n",
       "      <td>__label__1</td>\n",
       "      <td>study interventions are Stem cell transplantat...</td>\n",
       "    </tr>\n",
       "    <tr>\n",
       "      <th>2</th>\n",
       "      <td>__label__0</td>\n",
       "      <td>study interventions are Lenograstim . recurren...</td>\n",
       "    </tr>\n",
       "    <tr>\n",
       "      <th>3</th>\n",
       "      <td>__label__0</td>\n",
       "      <td>study interventions are Doxorubicin . stage ii...</td>\n",
       "    </tr>\n",
       "    <tr>\n",
       "      <th>4</th>\n",
       "      <td>__label__1</td>\n",
       "      <td>study interventions are Poly I-C . prostate ca...</td>\n",
       "    </tr>\n",
       "    <tr>\n",
       "      <th>...</th>\n",
       "      <td>...</td>\n",
       "      <td>...</td>\n",
       "    </tr>\n",
       "    <tr>\n",
       "      <th>11995</th>\n",
       "      <td>__label__0</td>\n",
       "      <td>study interventions are Prednisolone hemisucci...</td>\n",
       "    </tr>\n",
       "    <tr>\n",
       "      <th>11996</th>\n",
       "      <td>__label__0</td>\n",
       "      <td>study interventions are Bevacizumab . recurren...</td>\n",
       "    </tr>\n",
       "    <tr>\n",
       "      <th>11997</th>\n",
       "      <td>__label__1</td>\n",
       "      <td>study interventions are Antibodies, Monoclonal...</td>\n",
       "    </tr>\n",
       "    <tr>\n",
       "      <th>11998</th>\n",
       "      <td>__label__0</td>\n",
       "      <td>study interventions are Vorinostat . colorecta...</td>\n",
       "    </tr>\n",
       "    <tr>\n",
       "      <th>11999</th>\n",
       "      <td>__label__0</td>\n",
       "      <td>study interventions are Freund's Adjuvant . ov...</td>\n",
       "    </tr>\n",
       "  </tbody>\n",
       "</table>\n",
       "<p>12000 rows × 2 columns</p>\n",
       "</div>"
      ],
      "text/plain": [
       "            label                                study_and_condition\n",
       "0      __label__0  study interventions are Saracatinib . recurren...\n",
       "1      __label__1  study interventions are Stem cell transplantat...\n",
       "2      __label__0  study interventions are Lenograstim . recurren...\n",
       "3      __label__0  study interventions are Doxorubicin . stage ii...\n",
       "4      __label__1  study interventions are Poly I-C . prostate ca...\n",
       "...           ...                                                ...\n",
       "11995  __label__0  study interventions are Prednisolone hemisucci...\n",
       "11996  __label__0  study interventions are Bevacizumab . recurren...\n",
       "11997  __label__1  study interventions are Antibodies, Monoclonal...\n",
       "11998  __label__0  study interventions are Vorinostat . colorecta...\n",
       "11999  __label__0  study interventions are Freund's Adjuvant . ov...\n",
       "\n",
       "[12000 rows x 2 columns]"
      ]
     },
     "execution_count": 4,
     "metadata": {},
     "output_type": "execute_result"
    }
   ],
   "source": [
    "data"
   ]
  },
  {
   "cell_type": "markdown",
   "metadata": {
    "id": "n4uiXaPFhrNJ"
   },
   "source": [
    "### 2.1 Preprocesamiento - Pipeline"
   ]
  },
  {
   "cell_type": "code",
   "execution_count": 5,
   "metadata": {
    "id": "oFxkofsWI6ox"
   },
   "outputs": [],
   "source": [
    "#Separamos la variable objetivo y los textos\n",
    "X_data, y_data = data['study_and_condition'], data['label']\n",
    "y_data = (y_data == '__label__1').astype(int)\n",
    "X_train, X_test, Y_train, Y_test = train_test_split( X_data, y_data, test_size=0.25, random_state=0)"
   ]
  },
  {
   "cell_type": "code",
   "execution_count": 9,
   "metadata": {
    "colab": {
     "base_uri": "https://localhost:8080/",
     "height": 70
    },
    "id": "oVHf-PXbhrNK",
    "outputId": "12a1f148-b332-4268-8e0d-6d5f2620dc79"
   },
   "outputs": [
    {
     "data": {
      "text/plain": [
       "'              precision    recall  f1-score   support\\n\\n           0       0.83      0.82      0.82      1517\\n           1       0.82      0.83      0.82      1483\\n\\n    accuracy                           0.82      3000\\n   macro avg       0.82      0.82      0.82      3000\\nweighted avg       0.82      0.82      0.82      3000\\n'"
      ]
     },
     "execution_count": 9,
     "metadata": {},
     "output_type": "execute_result"
    }
   ],
   "source": [
    "vectorizer = TfidfVectorizer()\n",
    "pipeline = Pipeline(\n",
    "    [\n",
    "        (\"tfidf\", vectorizer),\n",
    "        (\"clf\", LinearSVC())\n",
    "    ]\n",
    ")\n",
    "\n",
    "pipeline.fit(X_train, Y_train)\n",
    "filename = 'svm_pipeline.joblib'\n",
    "dump(pipeline, filename) \n",
    "pipeline = load(filename)\n",
    "y_pred = pipeline.predict(X_test)\n",
    "cr = classification_report(Y_test, y_pred)\n",
    "cr"
   ]
  },
  {
   "cell_type": "code",
   "execution_count": 11,
   "metadata": {},
   "outputs": [
    {
     "data": {
      "text/plain": [
       "array([0, 1, 0, 0, 1, 1, 0])"
      ]
     },
     "execution_count": 11,
     "metadata": {},
     "output_type": "execute_result"
    }
   ],
   "source": [
    "mini_data = X_data.iloc[:7]\n",
    "new_pred = pipeline.predict(mini_data)\n",
    "new_pred"
   ]
  },
  {
   "cell_type": "code",
   "execution_count": null,
   "metadata": {},
   "outputs": [],
   "source": []
  }
 ],
 "metadata": {
  "colab": {
   "collapsed_sections": [],
   "name": "2da parte Proyecto1_BI.ipynb",
   "provenance": [],
   "toc_visible": true
  },
  "kernelspec": {
   "display_name": "Python 3 (ipykernel)",
   "language": "python",
   "name": "python3"
  },
  "language_info": {
   "codemirror_mode": {
    "name": "ipython",
    "version": 3
   },
   "file_extension": ".py",
   "mimetype": "text/x-python",
   "name": "python",
   "nbconvert_exporter": "python",
   "pygments_lexer": "ipython3",
   "version": "3.8.13"
  }
 },
 "nbformat": 4,
 "nbformat_minor": 1
}
